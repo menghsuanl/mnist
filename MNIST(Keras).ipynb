{
 "cells": [
  {
   "cell_type": "markdown",
   "id": "75c100ae",
   "metadata": {},
   "source": [
    "We build a classifier based on CNN to recognize hand-written digits 0-9. We are using the mnist\n",
    "(Modified National Institute of Standards and Technology) dataset, which can be loaded:\n",
    "(train_digits, train_labels), (test_digits, test_labels) = datasets.mnist.load_data()\n",
    "It contains black-white images (28 x 28 pixels) and their labels of hand-written digit (60000 in training set and 10000 in test set)."
   ]
  },
  {
   "cell_type": "code",
   "execution_count": 234,
   "id": "8e526c09",
   "metadata": {},
   "outputs": [
    {
     "name": "stderr",
     "output_type": "stream",
     "text": [
      "2023-03-02 16:22:35.060524: I tensorflow/core/platform/cpu_feature_guard.cc:193] This TensorFlow binary is optimized with oneAPI Deep Neural Network Library (oneDNN) to use the following CPU instructions in performance-critical operations:  SSE4.1 SSE4.2\n",
      "To enable them in other operations, rebuild TensorFlow with the appropriate compiler flags.\n"
     ]
    }
   ],
   "source": [
    "import tensorflow as tf\n",
    "\n",
    "from tensorflow.keras import datasets, layers, models\n",
    "import matplotlib.pyplot as plt"
   ]
  },
  {
   "cell_type": "code",
   "execution_count": 235,
   "id": "143c8150",
   "metadata": {},
   "outputs": [
    {
     "name": "stdout",
     "output_type": "stream",
     "text": [
      "Downloading data from https://storage.googleapis.com/tensorflow/tf-keras-datasets/mnist.npz\n",
      "11490434/11490434 [==============================] - 1s 0us/step\n"
     ]
    }
   ],
   "source": [
    "(train_digits, train_labels), (test_digits, test_labels) = datasets.mnist.load_data()"
   ]
  },
  {
   "cell_type": "markdown",
   "id": "7ba5bd70",
   "metadata": {},
   "source": [
    "## 1. Plot first 9 images:"
   ]
  },
  {
   "cell_type": "code",
   "execution_count": 253,
   "id": "40fb2d68",
   "metadata": {},
   "outputs": [
    {
     "data": {
      "image/png": "[encoded data removed]",
      "text/plain": [
       "<Figure size 640x480 with 9 Axes>"
      ]
     },
     "metadata": {},
     "output_type": "display_data"
    }
   ],
   "source": [
    "fig, axs = plt.subplots(3, 3)\n",
    "\n",
    "for r in range(0, 3):\n",
    "    for c in range(0, 3):\n",
    "        num = r*3+1+c\n",
    "        axs[r, c].imshow(train_digits[num], cmap='gray')\n",
    "        axs[r, c].set_title('Digit:'+str(train_labels[num]))\n",
    "\n",
    "plt.tight_layout()\n",
    "plt.show()"
   ]
  },
  {
   "cell_type": "markdown",
   "id": "32fb8887",
   "metadata": {},
   "source": [
    "## 2. Prepare the data"
   ]
  },
  {
   "cell_type": "code",
   "execution_count": 254,
   "id": "96d9b912",
   "metadata": {},
   "outputs": [],
   "source": [
    "train_digits = train_digits.reshape(60000,28,28,1)\n",
    "# one-hot ecoded for labels\n",
    "train_labels = tf.keras.utils.to_categorical(train_labels, 10)"
   ]
  },
  {
   "cell_type": "code",
   "execution_count": 257,
   "id": "3d565f6f",
   "metadata": {},
   "outputs": [],
   "source": [
    "test_digits = test_digits.reshape(10000,28,28,1)\n",
    "# one-hot ecoded for labels\n",
    "test_labels = tf.keras.utils.to_categorical(test_labels, 10)"
   ]
  },
  {
   "cell_type": "markdown",
   "id": "65ba774f",
   "metadata": {},
   "source": [
    "## 3. Build your CNN model with Conv2D with (3, 3) filters and MaxPooling2D((2, 2)). Show the summary of your model. "
   ]
  },
  {
   "cell_type": "code",
   "execution_count": 340,
   "id": "a5d71752",
   "metadata": {},
   "outputs": [],
   "source": [
    "model = models.Sequential()\n",
    "model.add(layers.Conv2D(32, (3, 3), activation='relu', input_shape=(28, 28, 1)))\n",
    "#model.add(layers.Conv2D(32, (3, 3), activation='relu'))\n",
    "model.add(layers.MaxPooling2D((2, 2)))\n",
    "#model.add(layers.Dropout(0.3))\n",
    "\n",
    "model.add(layers.Conv2D(64, (3, 3), activation='relu'))\n",
    "#model.add(layers.Conv2D(64, (3, 3), activation='relu'))\n",
    "model.add(layers.MaxPooling2D((2, 2)))\n",
    "#model.add(layers.Dropout(0.3))\n"
   ]
  },
  {
   "cell_type": "code",
   "execution_count": 341,
   "id": "78206dbe",
   "metadata": {},
   "outputs": [],
   "source": [
    "model.add(layers.Flatten())\n",
    "model.add(layers.Dense(64, activation='relu'))\n",
    "model.add(layers.Dense(10, activation='softmax'))"
   ]
  },
  {
   "cell_type": "code",
   "execution_count": 342,
   "id": "97045279",
   "metadata": {},
   "outputs": [
    {
     "name": "stdout",
     "output_type": "stream",
     "text": [
      "Model: \"sequential_16\"\n",
      "_________________________________________________________________\n",
      " Layer (type)                Output Shape              Param #   \n",
      "=================================================================\n",
      " conv2d_43 (Conv2D)          (None, 26, 26, 32)        320       \n",
      "                                                                 \n",
      " max_pooling2d_28 (MaxPoolin  (None, 13, 13, 32)       0         \n",
      " g2D)                                                            \n",
      "                                                                 \n",
      " conv2d_44 (Conv2D)          (None, 11, 11, 64)        18496     \n",
      "                                                                 \n",
      " max_pooling2d_29 (MaxPoolin  (None, 5, 5, 64)         0         \n",
      " g2D)                                                            \n",
      "                                                                 \n",
      " flatten_18 (Flatten)        (None, 1600)              0         \n",
      "                                                                 \n",
      " dense_36 (Dense)            (None, 64)                102464    \n",
      "                                                                 \n",
      " dense_37 (Dense)            (None, 10)                650       \n",
      "                                                                 \n",
      "=================================================================\n",
      "Total params: 121,930\n",
      "Trainable params: 121,930\n",
      "Non-trainable params: 0\n",
      "_________________________________________________________________\n"
     ]
    }
   ],
   "source": [
    "model.summary()"
   ]
  },
  {
   "cell_type": "markdown",
   "id": "561c31d6",
   "metadata": {},
   "source": [
    "## 4. Compile and train your model. Consider the choices of optimizer, loss, and epochs. What are your accuracy and val_accuracy?"
   ]
  },
  {
   "cell_type": "code",
   "execution_count": 347,
   "id": "15cbd8cb",
   "metadata": {},
   "outputs": [
    {
     "name": "stdout",
     "output_type": "stream",
     "text": [
      "Epoch 1/5\n",
      "1875/1875 [==============================] - 15s 8ms/step - loss: 0.0580 - accuracy: 0.9820 - val_loss: 0.0467 - val_accuracy: 0.9852\n",
      "Epoch 2/5\n",
      "1875/1875 [==============================] - 15s 8ms/step - loss: 0.0387 - accuracy: 0.9880 - val_loss: 0.0449 - val_accuracy: 0.9866\n",
      "Epoch 3/5\n",
      "1875/1875 [==============================] - 15s 8ms/step - loss: 0.0348 - accuracy: 0.9890 - val_loss: 0.0341 - val_accuracy: 0.9896\n",
      "Epoch 4/5\n",
      "1875/1875 [==============================] - 16s 8ms/step - loss: 0.0287 - accuracy: 0.9912 - val_loss: 0.0412 - val_accuracy: 0.9884\n",
      "Epoch 5/5\n",
      "1875/1875 [==============================] - 16s 9ms/step - loss: 0.0236 - accuracy: 0.9927 - val_loss: 0.0390 - val_accuracy: 0.9904\n"
     ]
    }
   ],
   "source": [
    "model.compile(optimizer='adam',\n",
    "              # as the labels are one-hot encoded, use categorical_crossentropy, not SparseCategoricalCrossentropy\n",
    "              loss=tf.keras.losses.categorical_crossentropy, \n",
    "              metrics=['accuracy'])\n",
    "\n",
    "history = model.fit(train_digits, train_labels, epochs=5, \n",
    "                    validation_data=(test_digits, test_labels))"
   ]
  },
  {
   "cell_type": "code",
   "execution_count": 349,
   "id": "bde4eda9",
   "metadata": {},
   "outputs": [
    {
     "data": {
      "text/plain": [
       "[0.9819666743278503,\n",
       " 0.9879999756813049,\n",
       " 0.9890000224113464,\n",
       " 0.9912499785423279,\n",
       " 0.9926833510398865]"
      ]
     },
     "execution_count": 349,
     "metadata": {},
     "output_type": "execute_result"
    }
   ],
   "source": [
    "history.history['accuracy']"
   ]
  },
  {
   "cell_type": "markdown",
   "id": "69bdd457",
   "metadata": {},
   "source": [
    "## 5. Plot the history of model training against epoch."
   ]
  },
  {
   "cell_type": "code",
   "execution_count": 355,
   "id": "9168ebd3",
   "metadata": {},
   "outputs": [
    {
     "data": {
      "text/plain": [
       "<matplotlib.legend.Legend at 0x7fcc0aac04f0>"
      ]
     },
     "execution_count": 355,
     "metadata": {},
     "output_type": "execute_result"
    },
    {
     "data": {
      "image/png": "[encoded data removed]",
      "text/plain": [
       "<Figure size 640x480 with 1 Axes>"
      ]
     },
     "metadata": {},
     "output_type": "display_data"
    }
   ],
   "source": [
    "plt.plot(history.history['accuracy'], label='accuracy')\n",
    "plt.plot(history.history['val_accuracy'], label = 'val_accuracy')\n",
    "plt.xlabel('Epoch')\n",
    "plt.ylabel('Accuracy')\n",
    "plt.ylim([0.975, 1])\n",
    "plt.legend(loc='lower right')"
   ]
  },
  {
   "cell_type": "markdown",
   "id": "c271bb10",
   "metadata": {},
   "source": [
    "## 6. Evaluate the model with the test data."
   ]
  },
  {
   "cell_type": "code",
   "execution_count": 354,
   "id": "a56cce98",
   "metadata": {},
   "outputs": [
    {
     "name": "stdout",
     "output_type": "stream",
     "text": [
      "313/313 - 1s - loss: 0.0390 - accuracy: 0.9904 - 875ms/epoch - 3ms/step\n"
     ]
    }
   ],
   "source": [
    "test_loss, test_acc = model.evaluate(test_digits,  test_labels, verbose=2)"
   ]
  }
 ],
 "metadata": {
  "kernelspec": {
   "display_name": "Python 3 (ipykernel)",
   "language": "python",
   "name": "python3"
  },
  "language_info": {
   "codemirror_mode": {
    "name": "ipython",
    "version": 3
   },
   "file_extension": ".py",
   "mimetype": "text/x-python",
   "name": "python",
   "nbconvert_exporter": "python",
   "pygments_lexer": "ipython3",
   "version": "3.9.7"
  }
 },
 "nbformat": 4,
 "nbformat_minor": 5
}
